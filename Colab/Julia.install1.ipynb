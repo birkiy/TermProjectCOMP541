{
  "nbformat": 4,
  "nbformat_minor": 0,
  "metadata": {
    "accelerator": "GPU",
    "colab": {
      "name": "Julia on Colab.ipynb",
      "provenance": [],
      "toc_visible": true
    },
    "kernelspec": {
      "display_name": "Julia",
      "language": "julia",
      "name": "julia"
    },
    "language_info": {
      "file_extension": ".jl",
      "mimetype": "application/julia",
      "name": "julia",
      "version": "1.5.2"
    }
  },
  "cells": [
    {
      "cell_type": "code",
      "metadata": {
        "colab": {
          "base_uri": "https://localhost:8080/"
        },
        "id": "oMSuTc3pDlHv",
        "outputId": "ed71a3f2-aed3-485a-dd68-b9a63aa6c36d"
      },
      "source": [
        "%%shell\n",
        "set -e\n",
        "\n",
        "#---------------------------------------------------#\n",
        "JULIA_VERSION=\"1.5.2\" # any version ≥ 0.7.0\n",
        "JULIA_PACKAGES=\"IJulia BenchmarkTools PyCall PyPlot Knet HDF5 AutoGrad\"\n",
        "JULIA_PACKAGES_IF_GPU=\"CUDA\"\n",
        "JULIA_NUM_THREADS=4\n",
        "#---------------------------------------------------#\n",
        "\n",
        "if [ -n \"$COLAB_GPU\" ] && [ -z `which julia` ]; then\n",
        "  # Install Julia\n",
        "  JULIA_VER=`cut -d '.' -f -2 <<< \"$JULIA_VERSION\"`\n",
        "  echo \"Installing Julia $JULIA_VERSION on the current Colab Runtime...\"\n",
        "  BASE_URL=\"https://julialang-s3.julialang.org/bin/linux/x64\"\n",
        "  URL=\"$BASE_URL/$JULIA_VER/julia-$JULIA_VERSION-linux-x86_64.tar.gz\"\n",
        "  wget -nv $URL -O /tmp/julia.tar.gz # -nv means \"not verbose\"\n",
        "  tar -x -f /tmp/julia.tar.gz -C /usr/local --strip-components 1\n",
        "  rm /tmp/julia.tar.gz\n",
        "\n",
        "  # Install Packages\n",
        "  if [ \"$COLAB_GPU\" = \"1\" ]; then\n",
        "      JULIA_PACKAGES=\"$JULIA_PACKAGES $JULIA_PACKAGES_IF_GPU\"\n",
        "  fi\n",
        "  for PKG in `echo $JULIA_PACKAGES`; do\n",
        "    echo \"Installing Julia package $PKG...\"\n",
        "    julia -e 'using Pkg; pkg\"add '$PKG'; precompile;\"'\n",
        "  done\n",
        "\n",
        "  # Install kernel and rename it to \"julia\"\n",
        "  echo \"Installing IJulia kernel...\"\n",
        "  julia -e 'using IJulia; IJulia.installkernel(\"julia\", env=Dict(\n",
        "      \"JULIA_NUM_THREADS\"=>\"'\"$JULIA_NUM_THREADS\"'\"))'\n",
        "  KERNEL_DIR=`julia -e \"using IJulia; print(IJulia.kerneldir())\"`\n",
        "  KERNEL_NAME=`ls -d \"$KERNEL_DIR\"/julia*`\n",
        "  mv -f $KERNEL_NAME \"$KERNEL_DIR\"/julia\n",
        "\n",
        "  echo ''\n",
        "  echo \"Successfully installed `julia -v`!\"\n",
        "  echo \"Please reload this page (press Ctrl+R, ⌘+R, or the F5 key) then\"\n",
        "  echo \"jump to the 'Checking the Installation' section.\"\n",
        "fi\n",
        "\n",
        "\n",
        "echo -e \"function KnetArray(x::CuArray{T,N}) where {T,N}\\n\\tp = Base.bitcast(Knet.Cptr, pointer(x))\\n\\tk = KnetPtr(p, sizeof(x), Int(CUDA.device().handle), x)\\n\\tKnetArray{T,N}(k, size(x))\\nend\" >> /root/.julia/packages/Knet/OYNCT/src/knetarrays/karray.jl"
      ],
      "execution_count": null,
      "outputs": [
        {
          "output_type": "stream",
          "text": [
            "Installing Julia 1.5.2 on the current Colab Runtime...\n",
            "2020-11-27 18:14:42 URL:https://storage.googleapis.com/julialang2/bin/linux/x64/1.5/julia-1.5.2-linux-x86_64.tar.gz [105324048/105324048] -> \"/tmp/julia.tar.gz\" [1]\n",
            "Installing Julia package IJulia...\n",
            "\u001b[32m\u001b[1m Installing\u001b[22m\u001b[39m known registries into `~/.julia`\n",
            "######################################################################## 100.0%\n",
            "\u001b[32m\u001b[1m      Added\u001b[22m\u001b[39m registry `General` to `~/.julia/registries/General`\n",
            "\u001b[32m\u001b[1m  Resolving\u001b[22m\u001b[39m package versions...\n",
            "\u001b[32m\u001b[1m  Installed\u001b[22m\u001b[39m VersionParsing ── v1.2.0\n",
            "\u001b[32m\u001b[1m  Installed\u001b[22m\u001b[39m Artifacts ─────── v1.3.0\n",
            "\u001b[32m\u001b[1m  Installed\u001b[22m\u001b[39m ZMQ ───────────── v1.2.1\n",
            "\u001b[32m\u001b[1m  Installed\u001b[22m\u001b[39m MbedTLS ───────── v1.0.3\n",
            "\u001b[32m\u001b[1m  Installed\u001b[22m\u001b[39m ZeroMQ_jll ────── v4.3.2+5\n",
            "\u001b[32m\u001b[1m  Installed\u001b[22m\u001b[39m MbedTLS_jll ───── v2.16.8+1\n",
            "\u001b[32m\u001b[1m  Installed\u001b[22m\u001b[39m Parsers ───────── v1.0.12\n",
            "\u001b[32m\u001b[1m  Installed\u001b[22m\u001b[39m Conda ─────────── v1.5.0\n",
            "\u001b[32m\u001b[1m  Installed\u001b[22m\u001b[39m IJulia ────────── v1.23.0\n",
            "\u001b[32m\u001b[1m  Installed\u001b[22m\u001b[39m JSON ──────────── v0.21.1\n",
            "\u001b[32m\u001b[1m  Installed\u001b[22m\u001b[39m SoftGlobalScope ─ v1.1.0\n",
            "\u001b[32m\u001b[1m  Installed\u001b[22m\u001b[39m JLLWrappers ───── v1.1.3\n",
            "\u001b[32m\u001b[1mDownloading\u001b[22m\u001b[39m artifact: ZeroMQ\n",
            "######################################################################## 100.0%\n",
            "\u001b[1A\u001b[2K\u001b[?25h\u001b[32m\u001b[1mDownloading\u001b[22m\u001b[39m artifact: MbedTLS\n",
            "######################################################################## 100.0%\n",
            "\u001b[1A\u001b[2K\u001b[?25h\u001b[32m\u001b[1mUpdating\u001b[22m\u001b[39m `~/.julia/environments/v1.5/Project.toml`\n",
            " \u001b[90m [7073ff75] \u001b[39m\u001b[92m+ IJulia v1.23.0\u001b[39m\n",
            "\u001b[32m\u001b[1mUpdating\u001b[22m\u001b[39m `~/.julia/environments/v1.5/Manifest.toml`\n",
            " \u001b[90m [56f22d72] \u001b[39m\u001b[92m+ Artifacts v1.3.0\u001b[39m\n",
            " \u001b[90m [8f4d0f93] \u001b[39m\u001b[92m+ Conda v1.5.0\u001b[39m\n",
            " \u001b[90m [7073ff75] \u001b[39m\u001b[92m+ IJulia v1.23.0\u001b[39m\n",
            " \u001b[90m [692b3bcd] \u001b[39m\u001b[92m+ JLLWrappers v1.1.3\u001b[39m\n",
            " \u001b[90m [682c06a0] \u001b[39m\u001b[92m+ JSON v0.21.1\u001b[39m\n",
            " \u001b[90m [739be429] \u001b[39m\u001b[92m+ MbedTLS v1.0.3\u001b[39m\n",
            " \u001b[90m [c8ffd9c3] \u001b[39m\u001b[92m+ MbedTLS_jll v2.16.8+1\u001b[39m\n",
            " \u001b[90m [69de0a69] \u001b[39m\u001b[92m+ Parsers v1.0.12\u001b[39m\n",
            " \u001b[90m [b85f4697] \u001b[39m\u001b[92m+ SoftGlobalScope v1.1.0\u001b[39m\n",
            " \u001b[90m [81def892] \u001b[39m\u001b[92m+ VersionParsing v1.2.0\u001b[39m\n",
            " \u001b[90m [c2297ded] \u001b[39m\u001b[92m+ ZMQ v1.2.1\u001b[39m\n",
            " \u001b[90m [8f1865be] \u001b[39m\u001b[92m+ ZeroMQ_jll v4.3.2+5\u001b[39m\n",
            " \u001b[90m [2a0f44e3] \u001b[39m\u001b[92m+ Base64\u001b[39m\n",
            " \u001b[90m [ade2ca70] \u001b[39m\u001b[92m+ Dates\u001b[39m\n",
            " \u001b[90m [8ba89e20] \u001b[39m\u001b[92m+ Distributed\u001b[39m\n",
            " \u001b[90m [7b1f6079] \u001b[39m\u001b[92m+ FileWatching\u001b[39m\n",
            " \u001b[90m [b77e0a4c] \u001b[39m\u001b[92m+ InteractiveUtils\u001b[39m\n",
            " \u001b[90m [76f85450] \u001b[39m\u001b[92m+ LibGit2\u001b[39m\n",
            " \u001b[90m [8f399da3] \u001b[39m\u001b[92m+ Libdl\u001b[39m\n",
            " \u001b[90m [56ddb016] \u001b[39m\u001b[92m+ Logging\u001b[39m\n",
            " \u001b[90m [d6f4376e] \u001b[39m\u001b[92m+ Markdown\u001b[39m\n",
            " \u001b[90m [a63ad114] \u001b[39m\u001b[92m+ Mmap\u001b[39m\n",
            " \u001b[90m [44cfe95a] \u001b[39m\u001b[92m+ Pkg\u001b[39m\n",
            " \u001b[90m [de0858da] \u001b[39m\u001b[92m+ Printf\u001b[39m\n",
            " \u001b[90m [3fa0cd96] \u001b[39m\u001b[92m+ REPL\u001b[39m\n",
            " \u001b[90m [9a3f8284] \u001b[39m\u001b[92m+ Random\u001b[39m\n",
            " \u001b[90m [ea8e919c] \u001b[39m\u001b[92m+ SHA\u001b[39m\n",
            " \u001b[90m [9e88b42a] \u001b[39m\u001b[92m+ Serialization\u001b[39m\n",
            " \u001b[90m [6462fe0b] \u001b[39m\u001b[92m+ Sockets\u001b[39m\n",
            " \u001b[90m [8dfed614] \u001b[39m\u001b[92m+ Test\u001b[39m\n",
            " \u001b[90m [cf7118a7] \u001b[39m\u001b[92m+ UUIDs\u001b[39m\n",
            " \u001b[90m [4ec0a83e] \u001b[39m\u001b[92m+ Unicode\u001b[39m\n",
            "\u001b[32m\u001b[1m   Building\u001b[22m\u001b[39m Conda ─→ `~/.julia/packages/Conda/x5ml4/deps/build.log`\n",
            "\u001b[32m\u001b[1m   Building\u001b[22m\u001b[39m IJulia → `~/.julia/packages/IJulia/ljYVo/deps/build.log`\n",
            "\u001b[32m\u001b[1mPrecompiling\u001b[22m\u001b[39m project...\n"
          ],
          "name": "stdout"
        }
      ]
    },
    {
      "cell_type": "markdown",
      "metadata": {
        "id": "2Rj1z5bRVKXk"
      },
      "source": [
        "# How to run?\n",
        "\n",
        "First know that this is a one-script notebook to run the entire project. \n",
        "\n",
        "\n",
        "1.   Run upper cell. (It install julia 1.5.2)\n",
        "2.   Restart the notebook. (This allows you to use julia language)\n",
        "3.   \n",
        "\n",
        "\n",
        "\n",
        "\n"
      ]
    },
    {
      "cell_type": "code",
      "metadata": {
        "colab": {
          "base_uri": "https://localhost:8080/"
        },
        "id": "PDjxPoocUt7y",
        "outputId": "5d4c7b82-80d8-4c91-c8ca-c32dd6dce530"
      },
      "source": [
        "versioninfo()"
      ],
      "execution_count": 14,
      "outputs": [
        {
          "output_type": "stream",
          "text": [
            "Julia Version 1.5.2\n",
            "Commit 539f3ce943 (2020-09-23 23:17 UTC)\n",
            "Platform Info:\n",
            "  OS: Linux (x86_64-pc-linux-gnu)\n",
            "  CPU: Intel(R) Xeon(R) CPU @ 2.20GHz\n",
            "  WORD_SIZE: 64\n",
            "  LIBM: libopenlibm\n",
            "  LLVM: libLLVM-9.0.1 (ORCJIT, broadwell)\n",
            "Environment:\n",
            "  JULIA_NUM_THREADS = 4\n"
          ],
          "name": "stdout"
        }
      ]
    },
    {
      "cell_type": "code",
      "metadata": {
        "id": "Bftwbelf5TzJ",
        "colab": {
          "base_uri": "https://localhost:8080/"
        },
        "outputId": "00312dfd-497f-453d-bc0c-52e22ce9aa3f"
      },
      "source": [
        "using Knet\n",
        "using AutoGrad\n",
        "using HDF5\n",
        "using PyCall\n",
        "using CUDA; aType=(CUDA.functional() ? KnetArray{Float32} : Array{Float32})"
      ],
      "execution_count": 2,
      "outputs": [
        {
          "output_type": "stream",
          "text": [
            "┌ Info: Precompiling Knet [1902f260-5fb4-5aff-8c31-6271790ab950]\n",
            "└ @ Base loading.jl:1278\n",
            "WARNING: Method definition (::Type{Knet.KnetArrays.KnetArray{T, N} where N where T})(CUDA.CuArray{T, N}) where {T, N} in module KnetArrays at /root/.julia/packages/Knet/OYNCT/src/knetarrays/karray.jl:156 overwritten at /root/.julia/packages/Knet/OYNCT/src/knetarrays/karray.jl:170.\n",
            "  ** incremental compilation may be fatally broken for this module **\n",
            "\n"
          ],
          "name": "stderr"
        },
        {
          "output_type": "stream",
          "text": [
            "\u001b[32m\u001b[1mDownloading\u001b[22m\u001b[39m artifact: CUDA101\n",
            "\u001b[?25l"
          ],
          "name": "stdout"
        },
        {
          "output_type": "stream",
          "text": [
            "######################################################################### 100.0%\n"
          ],
          "name": "stderr"
        },
        {
          "output_type": "stream",
          "text": [
            "\u001b[1A\u001b[2K\u001b[?25h\u001b[32m\u001b[1mDownloading\u001b[22m\u001b[39m artifact: CUDNN_CUDA101\n",
            "\u001b[?25l"
          ],
          "name": "stdout"
        },
        {
          "output_type": "stream",
          "text": [
            "######################################################################### 100.0%\n"
          ],
          "name": "stderr"
        },
        {
          "output_type": "stream",
          "text": [
            "\u001b[1A\u001b[2K\u001b[?25h\u001b[32m\u001b[1mDownloading\u001b[22m\u001b[39m artifact: CUTENSOR_CUDA101\n",
            "\u001b[?25l"
          ],
          "name": "stdout"
        },
        {
          "output_type": "stream",
          "text": [
            "######################################################################### 100.0%\n"
          ],
          "name": "stderr"
        },
        {
          "output_type": "stream",
          "text": [
            "\u001b[1A\u001b[2K\u001b[?25h"
          ],
          "name": "stdout"
        },
        {
          "output_type": "execute_result",
          "data": {
            "text/plain": [
              "KnetArray{Float32,N} where N"
            ]
          },
          "metadata": {
            "tags": []
          },
          "execution_count": 2
        }
      ]
    },
    {
      "cell_type": "code",
      "metadata": {
        "colab": {
          "base_uri": "https://localhost:8080/"
        },
        "id": "qm0GLhAHFJEA",
        "outputId": "516e44d9-20d7-46a5-9164-a0800f4f510e"
      },
      "source": [
        "CUDA.functional()"
      ],
      "execution_count": null,
      "outputs": [
        {
          "output_type": "execute_result",
          "data": {
            "text/plain": [
              "true"
            ]
          },
          "metadata": {
            "tags": []
          },
          "execution_count": 9
        }
      ]
    },
    {
      "cell_type": "markdown",
      "metadata": {
        "id": "EkaaAoQ6vYnH"
      },
      "source": [
        "# DATA\n",
        "\n",
        "Note that you should upload the DATA.hdf5.gz file to system each time you run, because it is recycled each time."
      ]
    },
    {
      "cell_type": "code",
      "metadata": {
        "id": "_B2-y-C06Oit",
        "colab": {
          "base_uri": "https://localhost:8080/"
        },
        "outputId": "762ba2fd-1031-4895-bd3c-5710c78db37c"
      },
      "source": [
        "run(`gunzip DATA.hdf5.gz`)"
      ],
      "execution_count": 8,
      "outputs": [
        {
          "output_type": "execute_result",
          "data": {
            "text/plain": [
              "Process(`\u001b[4mgunzip\u001b[24m \u001b[4mDATA.hdf5.gz\u001b[24m`, ProcessExited(0))"
            ]
          },
          "metadata": {
            "tags": []
          },
          "execution_count": 8
        }
      ]
    },
    {
      "cell_type": "code",
      "metadata": {
        "id": "MT_bcPrY6s33",
        "colab": {
          "base_uri": "https://localhost:8080/"
        },
        "outputId": "321ed184-7ba6-4e1f-8cd2-f3893ae2434f"
      },
      "source": [
        "fid = h5open(\"DATA.hdf5\", \"r\")\n",
        "\n",
        "xTrn = read(fid[\"trn\"][\"x\"]);\n",
        "xTst = read(fid[\"tst\"][\"x\"]);\n",
        "\n",
        "yTrn = [read(fid[\"trn\"][\"y\"][string(i)]) for i in 1:28];\n",
        "yTst = [read(fid[\"tst\"][\"y\"][string(i)]) for i in 1:28];\n",
        "\n",
        "heads = read(fid[\"heads\"]);\n"
      ],
      "execution_count": 9,
      "outputs": [
        {
          "output_type": "execute_result",
          "data": {
            "text/plain": [
              "14-element Array{String,1}:\n",
              " \"22RV1.AR-C19\"\n",
              " \"22RV1.AR-V7\"\n",
              " \"LNCaP.dht.AR\"\n",
              " \"LNCaP.veh.AR\"\n",
              " \"22RV1.HOXB13\"\n",
              " \"LN95.AR-C19\"\n",
              " \"LN95.AR-V7\"\n",
              " \"LN95.HOXB13\"\n",
              " \"malignant.1.AR\"\n",
              " \"malignant.2.AR\"\n",
              " \"malignant.3.AR\"\n",
              " \"malignant.4.AR\"\n",
              " \"non-malignant.1.AR\"\n",
              " \"non-malignant.2.AR\""
            ]
          },
          "metadata": {
            "tags": []
          },
          "execution_count": 9
        }
      ]
    },
    {
      "cell_type": "code",
      "metadata": {
        "id": "pnyv8Xus72dV",
        "colab": {
          "base_uri": "https://localhost:8080/"
        },
        "outputId": "324df5fc-2c0f-4484-adeb-bfd26af7da64"
      },
      "source": [
        "summary.([xTrn, yTrn, xTst, yTst])"
      ],
      "execution_count": 10,
      "outputs": [
        {
          "output_type": "execute_result",
          "data": {
            "text/plain": [
              "4-element Array{String,1}:\n",
              " \"1000×4×1×13687 Array{Float32,4}\"\n",
              " \"28-element Array{Array{Float32,4},1}\"\n",
              " \"1000×4×1×13688 Array{Float32,4}\"\n",
              " \"28-element Array{Array{Float32,4},1}\""
            ]
          },
          "metadata": {
            "tags": []
          },
          "execution_count": 10
        }
      ]
    },
    {
      "cell_type": "code",
      "metadata": {
        "colab": {
          "base_uri": "https://localhost:8080/"
        },
        "id": "9w-SGh8mvaxg",
        "outputId": "afbb39ec-619c-4204-d92b-5d6ddc9f76e4"
      },
      "source": [
        "\n",
        "\n",
        "# aType = Array{Float32}\n",
        "function minibatch(\n",
        "    x, y; batchsize::Int32=100, shuffle::Bool=false, atype::Type=Array{Float32})\n",
        "    \"\"\"\n",
        "    This function converts x and y data. Then initiates and returns Data type object.\n",
        "    \"\"\"\n",
        "    etype = eltype(atype)\n",
        "    x = aType(x)\n",
        "    y = [atype(yi) for yi in y]\n",
        "    n = size(x)[end]\n",
        "    Data(x,y, batchsize, shuffle, n, 1:n)\n",
        "end\n",
        "\n",
        "\n",
        "mutable struct Data\n",
        "    x\n",
        "    y\n",
        "    batchsize::Int32\n",
        "    shuffle::Bool\n",
        "    n::Int32\n",
        "    indices::Vector{Int32}\n",
        "end\n",
        "\n",
        "import Base: length, iterate, eltype, HasEltype\n",
        "\n",
        "function length(d::Data)\n",
        "    # Your code here\n",
        "    Int(ceil(d.n / d.batchsize))\n",
        "end\n",
        "\n",
        "\n",
        "\n",
        "function iterate(d::Data, state=(0)) # here the start point of state is 0\n",
        "    if state == 0 && d.shuffle\n",
        "        d.indices = randperm(d.n)\n",
        "    end\n",
        "\n",
        "    if state >= d.n\n",
        "        return nothing\n",
        "    end\n",
        "    i = state + 1 # here the beginning of the current slice\n",
        "    j = state + d.batchsize # here the end of the current slice\n",
        "\n",
        "    idx = d.indices[i:j]\n",
        "    xbatch = d.x[:,:,:,i:j]\n",
        "    ybatch = [y[:,:,:,i:j] for y in d.y]\n",
        "\n",
        "    return ((xbatch, ybatch), j) # here it returns the batch and the next state of the iteration\n",
        "end\n",
        "\n"
      ],
      "execution_count": 3,
      "outputs": [
        {
          "output_type": "execute_result",
          "data": {
            "text/plain": [
              "iterate (generic function with 337 methods)"
            ]
          },
          "metadata": {
            "tags": []
          },
          "execution_count": 3
        }
      ]
    },
    {
      "cell_type": "code",
      "metadata": {
        "id": "APkBK6Qn8Q33"
      },
      "source": [
        "dTrn = minibatch(xTrn, yTrn; batchsize=Int32(100), atype=aType);\n",
        "dTst = minibatch(xTst, yTst; batchsize=Int32(100), atype=aType);"
      ],
      "execution_count": 11,
      "outputs": []
    },
    {
      "cell_type": "code",
      "metadata": {
        "colab": {
          "base_uri": "https://localhost:8080/"
        },
        "id": "hAGBGRlmLI8y",
        "outputId": "2530a484-8f40-4be0-f87e-0d2a1fd39647"
      },
      "source": [
        "Knet.Cptr"
      ],
      "execution_count": 13,
      "outputs": [
        {
          "output_type": "execute_result",
          "data": {
            "text/plain": [
              "Ptr{Nothing}"
            ]
          },
          "metadata": {
            "tags": []
          },
          "execution_count": 13
        }
      ]
    },
    {
      "cell_type": "markdown",
      "metadata": {
        "id": "D_iwHl04vcxg"
      },
      "source": [
        "# Losses"
      ]
    },
    {
      "cell_type": "code",
      "metadata": {
        "colab": {
          "base_uri": "https://localhost:8080/"
        },
        "id": "629S-2a3vgAg",
        "outputId": "ffdca625-0a26-4a29-ee11-17477ba7e9f4"
      },
      "source": [
        "\n",
        "\n",
        "function aproxLogFact(n)\n",
        "    \"\"\"\n",
        "    Approximation for log n!\n",
        "    \"\"\"\n",
        "    Float32(n * log(n) - n  + log(n * (1 + 4n * (1 + 2n)))/6 + log(π)/2)\n",
        "end\n",
        "\n",
        "\n",
        "function multinomial_nll(ypred, ytrue)\n",
        "    pV = ypred ./ sum(ypred, dims=1)\n",
        "    logPV = log.(pV)\n",
        "    pS = sum(logPV .* ytrue, dims=1)\n",
        "    n = sum(ytrue, dims=1)\n",
        "    nS = (aproxLogFact.(n) .- sum(aproxLogFact.(ytrue), dims=1))\n",
        "    logP = pS .+ nS\n",
        "    loss = sum(logP) / prod(size(logP))\n",
        "end\n",
        "\n",
        "function mse(ypred, ytrue)\n",
        "    λ = Float32(0.5) * sum(ypred) / size(ypred, 1)\n",
        "    C = λ * abs2.(log.(1 .+ sum(ypred)) .- log.(1 .+ ytrue)) ./ size(ypred, 1)\n",
        "    sum(C) / prod(size(C))\n",
        "end\n"
      ],
      "execution_count": 4,
      "outputs": [
        {
          "output_type": "execute_result",
          "data": {
            "text/plain": [
              "mse (generic function with 1 method)"
            ]
          },
          "metadata": {
            "tags": []
          },
          "execution_count": 4
        }
      ]
    },
    {
      "cell_type": "markdown",
      "metadata": {
        "id": "vljgfJ1kvj_-"
      },
      "source": [
        "# Layers"
      ]
    },
    {
      "cell_type": "code",
      "metadata": {
        "id": "V8E7ygsZvmBz"
      },
      "source": [
        "mutable struct Conv\n",
        "    w\n",
        "    b\n",
        "    f\n",
        "    pDrop\n",
        "    padding\n",
        "    dilation\n",
        "    nParameters\n",
        "end\n",
        "\n",
        "\n",
        "\n",
        "(c::Conv)(x) =\n",
        "    c.f.(\n",
        "        conv4(\n",
        "            c.w,\n",
        "            dropout(x, c.pDrop),\n",
        "            padding=c.padding,\n",
        "            dilation=c.dilation\n",
        "        ) .+ c.b\n",
        "    )\n",
        "\n",
        "\n",
        "\n",
        "Conv(w1::Int, w2::Int, cx::Int, cy::Int;\n",
        "    f=\n",
        "        relu,\n",
        "    pDrop=\n",
        "        0,\n",
        "    padding=\n",
        "        0,\n",
        "    dilation=\n",
        "        1,\n",
        "    xType=\n",
        "        Array{Float32},\n",
        "    scale=\n",
        "        0.01\n",
        "    ) = Conv(\n",
        "            Param(xType(rand(w1,w2,cx,cy)) .* eltype(xType)(scale), Adam()),\n",
        "            Param(xType(zeros(1,1,cy,1)), Adam()),\n",
        "            f,\n",
        "            pDrop,\n",
        "            padding,\n",
        "            dilation,\n",
        "            (w1*w2*cx +1)*cy + cy\n",
        "        )\n",
        "\n",
        "################################################################################\n",
        "struct Pool\n",
        "    wSize\n",
        "    nParameters\n",
        "end\n",
        "\n",
        "(p::Pool)(x) = pool(x; window=p.wSize, mode=1)\n",
        "Pool(x) = Pool(x, 0)\n",
        "################################################################################\n",
        "mutable struct BatchNorm\n",
        "    moments\n",
        "    params\n",
        "    nParameters\n",
        "end\n",
        "\n",
        "(b::BatchNorm)(x) = batchnorm(x, b.moments, b.params)\n",
        "\n",
        "BatchNorm(C) = BatchNorm(bnmoments(), arrayType(bnparams(C)), 0)\n",
        "\n",
        "################################################################################\n",
        "\n",
        "struct Dense\n",
        "    w\n",
        "    b\n",
        "    f\n",
        "    pDrop\n",
        "    window\n",
        "    nParameters\n",
        "end\n",
        "\n",
        "Dense(i,o;\n",
        "    f=\n",
        "        identity,\n",
        "    window=\n",
        "        1,\n",
        "    xType=\n",
        "        Array{Float32},\n",
        "    scale=\n",
        "        0.01,\n",
        "    pDrop=\n",
        "        0\n",
        "    ) =\n",
        "        Dense(\n",
        "            Param(xType(rand(o,i)) .* eltype(xType)(scale), Adam()),\n",
        "            Param(xType(zeros(o)), Adam()),\n",
        "            f,\n",
        "            pDrop,\n",
        "            window,\n",
        "            (i+1)*o + o\n",
        "        )\n",
        "\n",
        "(d::Dense)(x) =\n",
        "    d.f.(\n",
        "        d.w *\n",
        "            mat(\n",
        "                dropout(x, d.pDrop),\n",
        "            ) .+ d.b\n",
        "        )\n",
        "\n",
        "\n",
        "################################################################################\n",
        "\n",
        "\n",
        "# Define a deconvolution layer:\n",
        "\n",
        "struct DeConv\n",
        "    w\n",
        "    b\n",
        "    padding\n",
        "    nParameters\n",
        "end\n",
        "\n",
        "\n",
        "DeConv(w1::Int, w2::Int, cx::Int, cy::Int;\n",
        "    padding=\n",
        "        0,\n",
        "    xType=\n",
        "        Array{Float32},\n",
        "    scale=\n",
        "        0.01\n",
        "    ) = DeConv(\n",
        "            Param(xType(rand(w1,w2,cx,cy)) .* eltype(xType)(scale), Adam()),\n",
        "            Param(xType(zeros(1,1,cx,1)), Adam()),\n",
        "            padding,\n",
        "            (w1*w2*cx)*cy + cx\n",
        "        )\n",
        "\n",
        "\n",
        "\n",
        "(dC::DeConv)(x) =\n",
        "    deconv4(\n",
        "        dC.w,\n",
        "        x,\n",
        "        padding=dC.padding\n",
        "    ) .+ dC.b\n",
        "################################################################################\n"
      ],
      "execution_count": 5,
      "outputs": []
    },
    {
      "cell_type": "markdown",
      "metadata": {
        "id": "fvezH-bdvodN"
      },
      "source": [
        "# Architecture"
      ]
    },
    {
      "cell_type": "code",
      "metadata": {
        "id": "GWW-0NQrvu91",
        "colab": {
          "base_uri": "https://localhost:8080/"
        },
        "outputId": "d648d77a-ceaf-400e-b73f-e20082c1c6cc"
      },
      "source": [
        "\n",
        "# Define a body (up to bottleneck)\n",
        "mutable struct Body\n",
        "    layers\n",
        "    Body(layers...) = new(layers)\n",
        "end\n",
        "\n",
        "\n",
        "function addLayer!(b::Body, l)\n",
        "    b.layers = (\n",
        "        b.layers...,\n",
        "        l\n",
        "    )\n",
        "end\n",
        "\n",
        "\n",
        "(b::Body)(x) = (for l in b.layers;x = l(x);end;x)\n",
        "\n",
        "\n",
        "##################################\n",
        "\n",
        "# Define Head structure\n",
        "\n",
        "mutable struct Head\n",
        "    layers\n",
        "    lossF\n",
        "    Head(layers...; lossF=identity) = new(layers, lossF)\n",
        "end\n",
        "\n",
        "(h::Head)(x) = (for l in h.layers;x = l(x);end;x)\n",
        "\n",
        "\n",
        "\n",
        "###########################\n",
        "\n",
        "\n",
        "mutable struct Chain\n",
        "    body\n",
        "    heads\n",
        "    n\n",
        "    bottleneck\n",
        "    Chain(body, heads...; n=0, bottleneck=nothing) = new(body, heads..., n, bottleneck)\n",
        "end\n",
        "\n",
        "Chain(b::Body) = Chain(b, []; n=0)\n",
        "(c::Chain)(h::Head...) = addHead!(c, h...)\n",
        "\n",
        "function addHead!(c::Chain, h...)\n",
        "    c.heads = vcat(c.heads..., h...)\n",
        "    c.n = length(c.heads)\n",
        "end\n",
        "\n",
        "##########################################\n",
        "\n",
        "\n",
        "function meanLoss(c::Chain, d::Data)\n",
        "    J = [Float32(0) for n in 1:c.n]\n",
        "    for (j, (x, y)) in enumerate(d)\n",
        "        for (hIdx, (h, yi)) in enumerate(zip(c.heads, y))\n",
        "            J[hIdx] += h.lossF(h(c.body(x)), yi)\n",
        "        end\n",
        "    end\n",
        "    J ./ length(d)\n",
        "end\n",
        "\n",
        "\n",
        "every(n,itr) = (x for (i,x) in enumerate(itr) if i%n == 0)\n"
      ],
      "execution_count": 6,
      "outputs": [
        {
          "output_type": "execute_result",
          "data": {
            "text/plain": [
              "every (generic function with 1 method)"
            ]
          },
          "metadata": {
            "tags": []
          },
          "execution_count": 6
        }
      ]
    },
    {
      "cell_type": "code",
      "metadata": {
        "id": "uxe3J-5YvxbC",
        "colab": {
          "base_uri": "https://localhost:8080/"
        },
        "outputId": "d9b4ee46-d038-433c-efc6-31639ec0ab28"
      },
      "source": [
        "\n",
        "function train!(c::Chain, dTrn::Data, dTst::Data; iters=500, period=10)\n",
        "    results = []\n",
        "    for i=1:period:iters\n",
        "        push!(\n",
        "            results, (\n",
        "                c(dTrn),\n",
        "                c(dTst),\n",
        "                1-accuracy(c; data=dTrn),\n",
        "                1-accuracy(c; data=dTst)\n",
        "            )\n",
        "        )\n",
        "        for (x, y) in every(period, dTrn)\n",
        "            J = @diff c(x, y)\n",
        "            for p in params(J)\n",
        "                ∇p = grad(J, p)\n",
        "                update!(p, ∇p)\n",
        "            end\n",
        "        end\n",
        "    end\n",
        "    push!(\n",
        "        results, (\n",
        "            c(dTrn),\n",
        "            c(dTst),\n",
        "            1-accuracy(c; data=dTrn),\n",
        "            1-accuracy(c; data=dTst)\n",
        "        )\n",
        "    )\n",
        "    results = reshape(collect(Float32,flatten(results)),(4,:))\n",
        "    return 0:period:iters, results\n",
        "end\n"
      ],
      "execution_count": null,
      "outputs": [
        {
          "output_type": "execute_result",
          "data": {
            "text/plain": [
              "train! (generic function with 1 method)"
            ]
          },
          "metadata": {
            "tags": []
          },
          "execution_count": 52
        }
      ]
    },
    {
      "cell_type": "code",
      "metadata": {
        "id": "BGFnCdZHTNBC",
        "colab": {
          "base_uri": "https://localhost:8080/"
        },
        "outputId": "f0cd4236-4119-44bc-8383-7b898cec558b"
      },
      "source": [
        "\n",
        "function meanLoss(c::Chain, d::Data)\n",
        "    J = [Float32(0) for n in 1:c.n]\n",
        "    for (j, (x, y)) in enumerate(d)\n",
        "        for (hIdx, (h, yi)) in enumerate(zip(c.heads, y))\n",
        "            J[hIdx] += h.lossF(h(c.body(x)), yi)\n",
        "        end\n",
        "    end\n",
        "    J ./ length(d)\n",
        "end\n",
        "\n",
        "\n",
        "function meanAccuracy(c::Chain, d::Data)\n",
        "    A = [Float32(0) for n in 1:c.n]\n",
        "    for (j, (x, y)) in enumerate(d)\n",
        "        for (hIdx, (h, yi)) in enumerate(zip(c.heads, y))\n",
        "            A[hIdx] += sum(h(c.body(x)) .== yi)\n",
        "        end\n",
        "    end\n",
        "    A ./ length(d)\n",
        "end\n"
      ],
      "execution_count": 7,
      "outputs": [
        {
          "output_type": "execute_result",
          "data": {
            "text/plain": [
              "meanAccuracy (generic function with 1 method)"
            ]
          },
          "metadata": {
            "tags": []
          },
          "execution_count": 7
        }
      ]
    },
    {
      "cell_type": "markdown",
      "metadata": {
        "id": "hsg77w_7wAZn"
      },
      "source": [
        "# Model"
      ]
    },
    {
      "cell_type": "code",
      "metadata": {
        "id": "0Wjmk3ruwCNH",
        "colab": {
          "base_uri": "https://localhost:8080/"
        },
        "outputId": "66f56172-e012-4097-e6df-ec2cbb3d3d0a"
      },
      "source": [
        "\n",
        "seqLen = size(xTrn, 1)\n",
        "\n",
        "tasks = [\n",
        "  \"22RV1.AR-C19\", \"22RV1.AR-V7\", \"LNCaP.dht.AR\", \"LNCaP.veh.AR\", \"22RV1.HOXB13\", \n",
        "  \"LN95.AR-C19\", \"LN95.AR-V7\", \"LN95.HOXB13\", \"malignant.1.AR\", \"malignant.2.AR\",\n",
        "  \"malignant.3.AR\", \"malignant.4.AR\", \"non-malignant.1.AR\", \"non-malignant.2.AR\"\n",
        "]\n",
        "\n",
        "\n",
        "bpnetBody = Body(\n",
        "    Conv(25,4,1,64, padding=(12, 0)) # Int(max((cx - 1) * s1 + w1 - cx, 0)/2)\n",
        ")\n",
        "\n",
        "\n",
        "\n",
        "nLayer = 2\n",
        "\n",
        "for i=1:nLayer\n",
        "    rate = 2^i\n",
        "    addLayer!(bpnetBody,\n",
        "        Conv(3,1,64,64, padding=(rate, 0), dilation=(rate, 0))\n",
        "    )\n",
        "end\n",
        "\n",
        "\n",
        "bpnet = Chain(bpnetBody)\n",
        "\n",
        "\n",
        "for task in tasks\n",
        "    profileHead = Head(\n",
        "        DeConv(25,1,2,64, padding=(12,0));\n",
        "        lossF=\n",
        "            multinomial_nll\n",
        "    )\n",
        "    println(\"profileHead\")\n",
        "    countHead = Head(\n",
        "        Pool((seqLen, 1)),\n",
        "        Dense(64,2, window=(seqLen,1));\n",
        "        lossF=\n",
        "            mse\n",
        "    )\n",
        "    println(\"countHead\")\n",
        "    bpnet(profileHead, countHead)\n",
        "end\n",
        "\n",
        "\n"
      ],
      "execution_count": null,
      "outputs": [
        {
          "output_type": "stream",
          "text": [
            "profileHead\n",
            "countHead\n",
            "profileHead\n",
            "countHead\n",
            "profileHead\n",
            "countHead\n",
            "profileHead\n",
            "countHead\n",
            "profileHead\n",
            "countHead\n",
            "profileHead\n",
            "countHead\n",
            "profileHead\n",
            "countHead\n",
            "profileHead\n",
            "countHead\n",
            "profileHead\n",
            "countHead\n",
            "profileHead\n",
            "countHead\n",
            "profileHead\n",
            "countHead\n",
            "profileHead\n",
            "countHead\n",
            "profileHead\n",
            "countHead\n",
            "profileHead\n",
            "countHead\n"
          ],
          "name": "stdout"
        }
      ]
    },
    {
      "cell_type": "code",
      "metadata": {
        "id": "7zK29jFJTPXm",
        "colab": {
          "base_uri": "https://localhost:8080/",
          "height": 252
        },
        "outputId": "78eda29d-27ce-4541-c829-046d0ac6e226"
      },
      "source": [
        "meanLoss(bpnet, dTrn)"
      ],
      "execution_count": null,
      "outputs": [
        {
          "output_type": "error",
          "ename": "LoadError",
          "evalue": "ignored",
          "traceback": [
            "BoundsError: attempt to access 13687-element Array{Int32,1} at index [13601:13700]",
            "",
            "Stacktrace:",
            " [1] throw_boundserror(::Array{Int32,1}, ::Tuple{UnitRange{Int64}}) at ./abstractarray.jl:541",
            " [2] checkbounds at ./abstractarray.jl:506 [inlined]",
            " [3] getindex at ./array.jl:815 [inlined]",
            " [4] iterate(::Data, ::Int64) at ./In[46]:53",
            " [5] iterate at ./iterators.jl:139 [inlined]",
            " [6] meanLoss(::Chain, ::Data) at ./In[53]:6",
            " [7] top-level scope at In[125]:1",
            " [8] include_string(::Function, ::Module, ::String, ::String) at ./loading.jl:1091"
          ]
        }
      ]
    },
    {
      "cell_type": "code",
      "metadata": {
        "id": "kZ4QU2Vkw8GV",
        "colab": {
          "base_uri": "https://localhost:8080/"
        },
        "outputId": "ff219335-fe43-4807-ae3d-7c83cd3ad167"
      },
      "source": [
        "\n",
        "[l.nParameters for l in collect(bpnet.body.layers)]\n",
        "[l.nParameters for h in collect(bpnet.heads) for l in h.layers]\n"
      ],
      "execution_count": null,
      "outputs": [
        {
          "output_type": "execute_result",
          "data": {
            "text/plain": [
              "28-element Array{Int64,1}:\n",
              " 3200\n",
              "  130\n",
              " 3200\n",
              "  130\n",
              " 3200\n",
              "  130\n",
              " 3200\n",
              "  130\n",
              " 3200\n",
              "  130\n",
              " 3200\n",
              "  130\n",
              " 3200\n",
              "    ⋮\n",
              " 3200\n",
              "  130\n",
              " 3200\n",
              "  130\n",
              " 3200\n",
              "  130\n",
              " 3200\n",
              "  130\n",
              " 3200\n",
              "  130\n",
              " 3200\n",
              "  130"
            ]
          },
          "metadata": {
            "tags": []
          },
          "execution_count": 56
        }
      ]
    },
    {
      "cell_type": "code",
      "metadata": {
        "id": "pwDle9td81Eo"
      },
      "source": [
        "training = train!(bpnet, dTrn, dTst)\n"
      ],
      "execution_count": null,
      "outputs": []
    }
  ]
}