{
  "nbformat": 4,
  "nbformat_minor": 0,
  "metadata": {
    "accelerator": "GPU",
    "colab": {
      "name": "Julia on Colab.ipynb",
      "provenance": [],
      "toc_visible": true
    },
    "kernelspec": {
      "display_name": "Julia",
      "language": "julia",
      "name": "julia"
    },
    "language_info": {
      "file_extension": ".jl",
      "mimetype": "application/julia",
      "name": "julia",
      "version": "1.5.2"
    }
  },
  "cells": [
    {
      "cell_type": "code",
      "metadata": {
        "colab": {
          "base_uri": "https://localhost:8080/",
          "height": 86
        },
        "id": "oMSuTc3pDlHv",
        "outputId": "5821de87-e2a9-4e90-f9a8-7e09a43c18ca"
      },
      "source": [
        "%%shell\n",
        "set -e\n",
        "\n",
        "#---------------------------------------------------#\n",
        "JULIA_VERSION=\"1.5.2\" # any version ≥ 0.7.0\n",
        "JULIA_PACKAGES=\"IJulia BenchmarkTools PyCall PyPlot Knet HDF5 AutoGrad\"\n",
        "JULIA_PACKAGES_IF_GPU=\"CUDA\"\n",
        "JULIA_NUM_THREADS=4\n",
        "#---------------------------------------------------#\n",
        "\n",
        "if [ -n \"$COLAB_GPU\" ] && [ -z `which julia` ]; then\n",
        "  # Install Julia\n",
        "  JULIA_VER=`cut -d '.' -f -2 <<< \"$JULIA_VERSION\"`\n",
        "  echo \"Installing Julia $JULIA_VERSION on the current Colab Runtime...\"\n",
        "  BASE_URL=\"https://julialang-s3.julialang.org/bin/linux/x64\"\n",
        "  URL=\"$BASE_URL/$JULIA_VER/julia-$JULIA_VERSION-linux-x86_64.tar.gz\"\n",
        "  wget -nv $URL -O /tmp/julia.tar.gz # -nv means \"not verbose\"\n",
        "  tar -x -f /tmp/julia.tar.gz -C /usr/local --strip-components 1\n",
        "  rm /tmp/julia.tar.gz\n",
        "\n",
        "  # Install Packages\n",
        "  if [ \"$COLAB_GPU\" = \"1\" ]; then\n",
        "      JULIA_PACKAGES=\"$JULIA_PACKAGES $JULIA_PACKAGES_IF_GPU\"\n",
        "  fi\n",
        "  for PKG in `echo $JULIA_PACKAGES`; do\n",
        "    echo \"Installing Julia package $PKG...\"\n",
        "    julia -e 'using Pkg; pkg\"add '$PKG'; precompile;\"'\n",
        "  done\n",
        "\n",
        "  # Install kernel and rename it to \"julia\"\n",
        "  echo \"Installing IJulia kernel...\"\n",
        "  julia -e 'using IJulia; IJulia.installkernel(\"julia\", env=Dict(\n",
        "      \"JULIA_NUM_THREADS\"=>\"'\"$JULIA_NUM_THREADS\"'\"))'\n",
        "  KERNEL_DIR=`julia -e \"using IJulia; print(IJulia.kerneldir())\"`\n",
        "  KERNEL_NAME=`ls -d \"$KERNEL_DIR\"/julia*`\n",
        "  mv -f $KERNEL_NAME \"$KERNEL_DIR\"/julia\n",
        "\n",
        "  echo ''\n",
        "  echo \"Successfully installed `julia -v`!\"\n",
        "  echo \"Please reload this page (press Ctrl+R, ⌘+R, or the F5 key) then\"\n",
        "  echo \"jump to the 'Checking the Installation' section.\"\n",
        "fi\n"
      ],
      "execution_count": null,
      "outputs": [
        {
          "output_type": "display_data",
          "data": {
            "text/latex": "Unrecognized magic \\texttt{\\%\\%shell}.\n\nJulia does not use the IPython \\texttt{\\%magic} syntax.   To interact with the IJulia kernel, use \\texttt{IJulia.somefunction(...)}, for example.  Julia macros, string macros, and functions can be used to accomplish most of the other functionalities of IPython magics.\n\n",
            "text/markdown": "Unrecognized magic `%%shell`.\n\nJulia does not use the IPython `%magic` syntax.   To interact with the IJulia kernel, use `IJulia.somefunction(...)`, for example.  Julia macros, string macros, and functions can be used to accomplish most of the other functionalities of IPython magics.\n",
            "text/plain": [
              "  Unrecognized magic \u001b[36m%%shell\u001b[39m.\n",
              "\n",
              "  Julia does not use the IPython \u001b[36m%magic\u001b[39m syntax. To interact with the IJulia\n",
              "  kernel, use \u001b[36mIJulia.somefunction(...)\u001b[39m, for example. Julia macros, string\n",
              "  macros, and functions can be used to accomplish most of the other\n",
              "  functionalities of IPython magics."
            ]
          },
          "metadata": {
            "tags": []
          }
        }
      ]
    },
    {
      "cell_type": "markdown",
      "metadata": {
        "id": "2Rj1z5bRVKXk"
      },
      "source": [
        "# How to run?\n",
        "\n",
        "First know that this is a one-script notebook to run the entire project. \n",
        "\n",
        "\n",
        "1.   Run upper cell. (It install julia 1.5.2)\n",
        "2.   Restart the notebook. (This allows you to use julia language)\n",
        "3.   \n",
        "\n",
        "\n",
        "\n",
        "\n"
      ]
    },
    {
      "cell_type": "code",
      "metadata": {
        "colab": {
          "base_uri": "https://localhost:8080/"
        },
        "id": "PDjxPoocUt7y",
        "outputId": "14e08e41-2a9c-4931-c2ed-57e58c6eb360"
      },
      "source": [
        "versioninfo()"
      ],
      "execution_count": 1,
      "outputs": [
        {
          "output_type": "stream",
          "text": [
            "Julia Version 1.5.2\n",
            "Commit 539f3ce943 (2020-09-23 23:17 UTC)\n",
            "Platform Info:\n",
            "  OS: Linux (x86_64-pc-linux-gnu)\n",
            "  CPU: Intel(R) Xeon(R) CPU @ 2.20GHz\n",
            "  WORD_SIZE: 64\n",
            "  LIBM: libopenlibm\n",
            "  LLVM: libLLVM-9.0.1 (ORCJIT, broadwell)\n",
            "Environment:\n",
            "  JULIA_NUM_THREADS = 4\n"
          ],
          "name": "stdout"
        }
      ]
    },
    {
      "cell_type": "code",
      "metadata": {
        "id": "oxQXo2dM6DkV",
        "colab": {
          "base_uri": "https://localhost:8080/"
        },
        "outputId": "04f93216-aa10-4adc-cd75-bc6f26f8125f"
      },
      "source": [
        "using Pkg; Pkg.add(\"AutoGrad\")"
      ],
      "execution_count": null,
      "outputs": [
        {
          "output_type": "stream",
          "text": [
            "\u001b[32m\u001b[1m   Updating\u001b[22m\u001b[39m registry at `~/.julia/registries/General`\n",
            "######################################################################### 100.0%\n",
            "\u001b[32m\u001b[1m  Resolving\u001b[22m\u001b[39m package versions...\n",
            "\u001b[32m\u001b[1mUpdating\u001b[22m\u001b[39m `~/.julia/environments/v1.5/Project.toml`\n",
            " \u001b[90m [6710c13c] \u001b[39m\u001b[92m+ AutoGrad v1.2.3\u001b[39m\n",
            "\u001b[32m\u001b[1mNo Changes\u001b[22m\u001b[39m to `~/.julia/environments/v1.5/Manifest.toml`\n"
          ],
          "name": "stderr"
        }
      ]
    },
    {
      "cell_type": "code",
      "metadata": {
        "id": "Bftwbelf5TzJ",
        "colab": {
          "base_uri": "https://localhost:8080/"
        },
        "outputId": "f5911881-d3ad-4484-cb67-80a13d5444cb"
      },
      "source": [
        "using Knet\n",
        "using AutoGrad\n",
        "using HDF5\n",
        "using PyCall\n",
        "using CUDA; aType=(CUDA.functional() ? KnetArray{Float32} : Array{Float32})"
      ],
      "execution_count": 4,
      "outputs": [
        {
          "output_type": "execute_result",
          "data": {
            "text/plain": [
              "KnetArray{Float32,N} where N"
            ]
          },
          "metadata": {
            "tags": []
          },
          "execution_count": 4
        }
      ]
    },
    {
      "cell_type": "code",
      "metadata": {
        "id": "qm0GLhAHFJEA",
        "outputId": "516e44d9-20d7-46a5-9164-a0800f4f510e",
        "colab": {
          "base_uri": "https://localhost:8080/"
        }
      },
      "source": [
        "CUDA.functional()"
      ],
      "execution_count": 9,
      "outputs": [
        {
          "output_type": "execute_result",
          "data": {
            "text/plain": [
              "true"
            ]
          },
          "metadata": {
            "tags": []
          },
          "execution_count": 9
        }
      ]
    },
    {
      "cell_type": "markdown",
      "metadata": {
        "id": "EkaaAoQ6vYnH"
      },
      "source": [
        "# DATA\n",
        "\n",
        "Note that you should upload the DATA.hdf5.gz file to system each time you run, because it is recycled each time."
      ]
    },
    {
      "cell_type": "code",
      "metadata": {
        "id": "_B2-y-C06Oit",
        "outputId": "4465672e-6c96-4554-f2b3-cdc9efabd0b2",
        "colab": {
          "base_uri": "https://localhost:8080/"
        }
      },
      "source": [
        "run(`gunzip DATA.hdf5.gz`)"
      ],
      "execution_count": 10,
      "outputs": [
        {
          "output_type": "execute_result",
          "data": {
            "text/plain": [
              "Process(`\u001b[4mgunzip\u001b[24m \u001b[4mDATA.hdf5.gz\u001b[24m`, ProcessExited(0))"
            ]
          },
          "metadata": {
            "tags": []
          },
          "execution_count": 10
        }
      ]
    },
    {
      "cell_type": "code",
      "metadata": {
        "id": "MT_bcPrY6s33",
        "colab": {
          "base_uri": "https://localhost:8080/"
        },
        "outputId": "46bc1515-80b3-4657-87b8-a47e9a51d96f"
      },
      "source": [
        "fid = h5open(\"DATA.hdf5\", \"r\")\n",
        "\n",
        "xTrn = read(fid[\"trn\"][\"x\"])\n",
        "xTst = read(fid[\"tst\"][\"x\"])\n",
        "\n",
        "yTrn = [read(fid[\"trn\"][\"y\"][string(i)]) for i in 1:28]\n",
        "yTst = [read(fid[\"tst\"][\"y\"][string(i)]) for i in 1:28]\n",
        "\n",
        "heads = read(fid[\"heads\"])\n"
      ],
      "execution_count": 11,
      "outputs": [
        {
          "output_type": "execute_result",
          "data": {
            "text/plain": [
              "14-element Array{String,1}:\n",
              " \"22RV1.AR-C19\"\n",
              " \"22RV1.AR-V7\"\n",
              " \"LNCaP.dht.AR\"\n",
              " \"LNCaP.veh.AR\"\n",
              " \"22RV1.HOXB13\"\n",
              " \"LN95.AR-C19\"\n",
              " \"LN95.AR-V7\"\n",
              " \"LN95.HOXB13\"\n",
              " \"malignant.1.AR\"\n",
              " \"malignant.2.AR\"\n",
              " \"malignant.3.AR\"\n",
              " \"malignant.4.AR\"\n",
              " \"non-malignant.1.AR\"\n",
              " \"non-malignant.2.AR\""
            ]
          },
          "metadata": {
            "tags": []
          },
          "execution_count": 11
        }
      ]
    },
    {
      "cell_type": "code",
      "metadata": {
        "id": "pnyv8Xus72dV",
        "colab": {
          "base_uri": "https://localhost:8080/"
        },
        "outputId": "5bc17a3f-a7ef-4a48-db41-6d222291ed55"
      },
      "source": [
        "summary.([xTrn, yTrn, xTst, yTst])"
      ],
      "execution_count": null,
      "outputs": [
        {
          "output_type": "execute_result",
          "data": {
            "text/plain": [
              "4-element Array{String,1}:\n",
              " \"1000×4×1×13687 Array{Float32,4}\"\n",
              " \"28-element Array{Array{Float32,4},1}\"\n",
              " \"1000×4×1×13688 Array{Float32,4}\"\n",
              " \"28-element Array{Array{Float32,4},1}\""
            ]
          },
          "metadata": {
            "tags": []
          },
          "execution_count": 21
        }
      ]
    },
    {
      "cell_type": "code",
      "metadata": {
        "id": "cVffG46FLhgN",
        "outputId": "11c4cd45-6e3d-4715-d23e-571373ba93d0",
        "colab": {
          "base_uri": "https://localhost:8080/"
        }
      },
      "source": [
        "import Pkg; Pkg.test(\"Knet\")"
      ],
      "execution_count": null,
      "outputs": [
        {
          "output_type": "stream",
          "text": [
            "\u001b[32m\u001b[1m    Testing\u001b[22m\u001b[39m Knet\n",
            "\u001b[32m\u001b[1mStatus\u001b[22m\u001b[39m `/tmp/jl_jq5OHo/Project.toml`\n",
            " \u001b[90m [6710c13c] \u001b[39m\u001b[37mAutoGrad v1.2.3\u001b[39m\n",
            " \u001b[90m [052768ef] \u001b[39m\u001b[37mCUDA v2.3.0\u001b[39m\n",
            " \u001b[90m [5789e2e9] \u001b[39m\u001b[37mFileIO v1.4.4\u001b[39m\n",
            " \u001b[90m [033835bb] \u001b[39m\u001b[37mJLD2 v0.2.4\u001b[39m\n",
            " \u001b[90m [1902f260] \u001b[39m\u001b[37mKnet v1.4.3\u001b[39m\n",
            " \u001b[90m [872c559c] \u001b[39m\u001b[37mNNlib v0.7.7\u001b[39m\n",
            " \u001b[90m [276daf66] \u001b[39m\u001b[37mSpecialFunctions v0.10.3\u001b[39m\n",
            " \u001b[90m [8f399da3] \u001b[39m\u001b[37mLibdl\u001b[39m\n",
            " \u001b[90m [37e2e46d] \u001b[39m\u001b[37mLinearAlgebra\u001b[39m\n",
            " \u001b[90m [44cfe95a] \u001b[39m\u001b[37mPkg\u001b[39m\n",
            " \u001b[90m [de0858da] \u001b[39m\u001b[37mPrintf\u001b[39m\n",
            " \u001b[90m [9a3f8284] \u001b[39m\u001b[37mRandom\u001b[39m\n",
            " \u001b[90m [10745b16] \u001b[39m\u001b[37mStatistics\u001b[39m\n",
            " \u001b[90m [8dfed614] \u001b[39m\u001b[37mTest\u001b[39m\n",
            "\u001b[32m\u001b[1mStatus\u001b[22m\u001b[39m `/tmp/jl_jq5OHo/Manifest.toml`\n",
            " \u001b[90m [621f4979] \u001b[39m\u001b[37mAbstractFFTs v0.5.0\u001b[39m\n",
            " \u001b[90m [79e6a3ab] \u001b[39m\u001b[37mAdapt v2.3.0\u001b[39m\n",
            " \u001b[90m [56f22d72] \u001b[39m\u001b[37mArtifacts v1.3.0\u001b[39m\n",
            " \u001b[90m [6710c13c] \u001b[39m\u001b[37mAutoGrad v1.2.3\u001b[39m\n",
            " \u001b[90m [ab4f0b2a] \u001b[39m\u001b[37mBFloat16s v0.1.0\u001b[39m\n",
            " \u001b[90m [fa961155] \u001b[39m\u001b[37mCEnum v0.4.1\u001b[39m\n",
            " \u001b[90m [052768ef] \u001b[39m\u001b[37mCUDA v2.3.0\u001b[39m\n",
            " \u001b[90m [944b1d66] \u001b[39m\u001b[37mCodecZlib v0.7.0\u001b[39m\n",
            " \u001b[90m [34da2185] \u001b[39m\u001b[37mCompat v3.23.0\u001b[39m\n",
            " \u001b[90m [e66e0078] \u001b[39m\u001b[37mCompilerSupportLibraries_jll v0.3.4+0\u001b[39m\n",
            " \u001b[90m [864edb3b] \u001b[39m\u001b[37mDataStructures v0.18.8\u001b[39m\n",
            " \u001b[90m [e2ba6199] \u001b[39m\u001b[37mExprTools v0.1.3\u001b[39m\n",
            " \u001b[90m [5789e2e9] \u001b[39m\u001b[37mFileIO v1.4.4\u001b[39m\n",
            " \u001b[90m [0c68f7d7] \u001b[39m\u001b[37mGPUArrays v6.1.2\u001b[39m\n",
            " \u001b[90m [61eb1bfa] \u001b[39m\u001b[37mGPUCompiler v0.8.3\u001b[39m\n",
            " \u001b[90m [033835bb] \u001b[39m\u001b[37mJLD2 v0.2.4\u001b[39m\n",
            " \u001b[90m [692b3bcd] \u001b[39m\u001b[37mJLLWrappers v1.1.3\u001b[39m\n",
            " \u001b[90m [1902f260] \u001b[39m\u001b[37mKnet v1.4.3\u001b[39m\n",
            " \u001b[90m [929cbde3] \u001b[39m\u001b[37mLLVM v3.4.0\u001b[39m\n",
            " \u001b[90m [1914dd2f] \u001b[39m\u001b[37mMacroTools v0.5.6\u001b[39m\n",
            " \u001b[90m [872c559c] \u001b[39m\u001b[37mNNlib v0.7.7\u001b[39m\n",
            " \u001b[90m [efe28fd5] \u001b[39m\u001b[37mOpenSpecFun_jll v0.5.3+4\u001b[39m\n",
            " \u001b[90m [bac558e1] \u001b[39m\u001b[37mOrderedCollections v1.3.2\u001b[39m\n",
            " \u001b[90m [189a3867] \u001b[39m\u001b[37mReexport v0.2.0\u001b[39m\n",
            " \u001b[90m [ae029012] \u001b[39m\u001b[37mRequires v1.1.1\u001b[39m\n",
            " \u001b[90m [6c6a2e73] \u001b[39m\u001b[37mScratch v1.0.3\u001b[39m\n",
            " \u001b[90m [276daf66] \u001b[39m\u001b[37mSpecialFunctions v0.10.3\u001b[39m\n",
            " \u001b[90m [a759f4b9] \u001b[39m\u001b[37mTimerOutputs v0.5.7\u001b[39m\n",
            " \u001b[90m [3bb67fe8] \u001b[39m\u001b[37mTranscodingStreams v0.9.5\u001b[39m\n",
            " \u001b[90m [83775a58] \u001b[39m\u001b[37mZlib_jll v1.2.11+18\u001b[39m\n",
            " \u001b[90m [2a0f44e3] \u001b[39m\u001b[37mBase64\u001b[39m\n",
            " \u001b[90m [ade2ca70] \u001b[39m\u001b[37mDates\u001b[39m\n",
            " \u001b[90m [8bb1440f] \u001b[39m\u001b[37mDelimitedFiles\u001b[39m\n",
            " \u001b[90m [8ba89e20] \u001b[39m\u001b[37mDistributed\u001b[39m\n",
            " \u001b[90m [b77e0a4c] \u001b[39m\u001b[37mInteractiveUtils\u001b[39m\n",
            " \u001b[90m [76f85450] \u001b[39m\u001b[37mLibGit2\u001b[39m\n",
            " \u001b[90m [8f399da3] \u001b[39m\u001b[37mLibdl\u001b[39m\n",
            " \u001b[90m [37e2e46d] \u001b[39m\u001b[37mLinearAlgebra\u001b[39m\n",
            " \u001b[90m [56ddb016] \u001b[39m\u001b[37mLogging\u001b[39m\n",
            " \u001b[90m [d6f4376e] \u001b[39m\u001b[37mMarkdown\u001b[39m\n",
            " \u001b[90m [a63ad114] \u001b[39m\u001b[37mMmap\u001b[39m\n",
            " \u001b[90m [44cfe95a] \u001b[39m\u001b[37mPkg\u001b[39m\n",
            " \u001b[90m [de0858da] \u001b[39m\u001b[37mPrintf\u001b[39m\n",
            " \u001b[90m [3fa0cd96] \u001b[39m\u001b[37mREPL\u001b[39m\n",
            " \u001b[90m [9a3f8284] \u001b[39m\u001b[37mRandom\u001b[39m\n",
            " \u001b[90m [ea8e919c] \u001b[39m\u001b[37mSHA\u001b[39m\n",
            " \u001b[90m [9e88b42a] \u001b[39m\u001b[37mSerialization\u001b[39m\n",
            " \u001b[90m [1a1011a3] \u001b[39m\u001b[37mSharedArrays\u001b[39m\n",
            " \u001b[90m [6462fe0b] \u001b[39m\u001b[37mSockets\u001b[39m\n",
            " \u001b[90m [2f01184e] \u001b[39m\u001b[37mSparseArrays\u001b[39m\n",
            " \u001b[90m [10745b16] \u001b[39m\u001b[37mStatistics\u001b[39m\n",
            " \u001b[90m [8dfed614] \u001b[39m\u001b[37mTest\u001b[39m\n",
            " \u001b[90m [cf7118a7] \u001b[39m\u001b[37mUUIDs\u001b[39m\n",
            " \u001b[90m [4ec0a83e] \u001b[39m\u001b[37mUnicode\u001b[39m\n"
          ],
          "name": "stderr"
        }
      ]
    },
    {
      "cell_type": "code",
      "metadata": {
        "colab": {
          "base_uri": "https://localhost:8080/",
          "height": 150
        },
        "id": "9w-SGh8mvaxg",
        "outputId": "cbcd662e-2e44-4fd1-fa06-82be6f8121b9"
      },
      "source": [
        "\n",
        "\n",
        "function KnetArray(x::CuArray{T,N}) where {T,N}\n",
        "    p = Base.bitcast(Cptr, pointer(x))\n",
        "    k = KnetPtr(p, sizeof(x), Int(CUDA.device().handle), x)\n",
        "    KnetArray{T,N}(k, size(x))\n",
        "end\n",
        "\n",
        "function minibatch(\n",
        "    x, y; batchsize::Int32=100, shuffle::Bool=false, atype::Type=Array{Float32})\n",
        "    \"\"\"\n",
        "    This function converts x and y data. Then initiates and returns Data type object.\n",
        "    \"\"\"\n",
        "    etype = eltype(atype)\n",
        "    x = aType(x)\n",
        "    y = [atype(yi) for yi in y]\n",
        "    n = size(x)[end]\n",
        "    Data(x,y, batchsize, shuffle, n, 1:n)\n",
        "end\n",
        "\n",
        "\n",
        "mutable struct Data\n",
        "    x\n",
        "    y\n",
        "    batchsize::Int32\n",
        "    shuffle::Bool\n",
        "    n::Int32\n",
        "    indices::Vector{Int32}\n",
        "end\n",
        "\n",
        "import Base: length, iterate, eltype, HasEltype\n",
        "\n",
        "function length(d::Data)\n",
        "    # Your code here\n",
        "    Int(ceil(d.n / d.batchsize))\n",
        "end\n",
        "\n",
        "\n",
        "\n",
        "function iterate(d::Data, state=(0)) # here the start point of state is 0\n",
        "    if state == 0 && d.shuffle\n",
        "        d.indices = randperm(d.n)\n",
        "    end\n",
        "\n",
        "    if state >= d.n\n",
        "        return nothing\n",
        "    end\n",
        "    i = state + 1 # here the beginning of the current slice\n",
        "    j = state + d.batchsize # here the end of the current slice\n",
        "\n",
        "    idx = d.indices[i:j]\n",
        "    xbatch = d.x[:,:,:,i:j]\n",
        "    ybatch = [y[:,:,:,i:j] for y in d.y]\n",
        "\n",
        "    return ((xbatch, ybatch), j) # here it returns the batch and the next state of the iteration\n",
        "end\n",
        "\n"
      ],
      "execution_count": 15,
      "outputs": [
        {
          "output_type": "error",
          "ename": "LoadError",
          "evalue": "ignored",
          "traceback": [
            "syntax: extra token \"Cptr\" after end of expression",
            "",
            "Stacktrace:",
            " [1] top-level scope at In[15]:1",
            " [2] include_string(::Function, ::Module, ::String, ::String) at ./loading.jl:1091"
          ]
        }
      ]
    },
    {
      "cell_type": "code",
      "metadata": {
        "id": "APkBK6Qn8Q33"
      },
      "source": [
        "dTrn = minibatch(xTrn, yTrn; batchsize=Int32(100), atype=aType);\n",
        "dTst = minibatch(xTst, yTst; batchsize=Int32(100), atype=aType);"
      ],
      "execution_count": 13,
      "outputs": []
    },
    {
      "cell_type": "code",
      "metadata": {
        "id": "hAGBGRlmLI8y",
        "outputId": "bf5b5996-8244-4518-ac34-0ed0fdac7517",
        "colab": {
          "base_uri": "https://localhost:8080/",
          "height": 256
        }
      },
      "source": [
        "first(dTrn)"
      ],
      "execution_count": 14,
      "outputs": [
        {
          "output_type": "error",
          "ename": "LoadError",
          "evalue": "ignored",
          "traceback": [
            "TypeError: in bitcast, expected DataType, got Type{CuPtr}",
            "",
            "Stacktrace:",
            " [1] KnetArray(::CuArray{Float32,4}) at ./In[12]:4",
            " [2] getindex(::KnetArray{Float32,4}, ::Function, ::Function, ::Function, ::UnitRange{Int64}) at /root/.julia/packages/Knet/OYNCT/src/knetarrays/getindex.jl:40",
            " [3] iterate(::Data, ::Int64) at ./In[12]:52",
            " [4] iterate at ./In[12]:41 [inlined]",
            " [5] first(::Data) at ./abstractarray.jl:341",
            " [6] top-level scope at In[14]:1",
            " [7] include_string(::Function, ::Module, ::String, ::String) at ./loading.jl:1091"
          ]
        }
      ]
    },
    {
      "cell_type": "markdown",
      "metadata": {
        "id": "D_iwHl04vcxg"
      },
      "source": [
        "# Losses"
      ]
    },
    {
      "cell_type": "code",
      "metadata": {
        "colab": {
          "base_uri": "https://localhost:8080/"
        },
        "id": "629S-2a3vgAg",
        "outputId": "88d25a92-63a3-421a-efb2-b525ccbb2bb7"
      },
      "source": [
        "\n",
        "\n",
        "function aproxLogFact(n)\n",
        "    \"\"\"\n",
        "    Approximation for log n!\n",
        "    \"\"\"\n",
        "    Float32(n * log(n) - n  + log(n * (1 + 4n * (1 + 2n)))/6 + log(π)/2)\n",
        "end\n",
        "\n",
        "\n",
        "function multinomial_nll(ypred, ytrue)\n",
        "    pV = ypred ./ sum(ypred, dims=1)\n",
        "    logPV = log.(pV)\n",
        "    pS = sum(logPV .* ytrue, dims=1)\n",
        "    n = sum(ytrue, dims=1)\n",
        "    nS = (aproxLogFact.(n) .- sum(aproxLogFact.(ytrue), dims=1))\n",
        "    logP = pS .+ nS\n",
        "    loss = sum(logP) / prod(size(logP))\n",
        "end\n",
        "\n",
        "function mse(ypred, ytrue)\n",
        "    λ = Float32(0.5) * sum(ypred) / size(ypred, 1)\n",
        "    C = λ * abs2.(log.(1 .+ sum(ypred)) .- log.(1 .+ ytrue)) ./ size(ypred, 1)\n",
        "    sum(C) / prod(size(C))\n",
        "end\n"
      ],
      "execution_count": null,
      "outputs": [
        {
          "output_type": "execute_result",
          "data": {
            "text/plain": [
              "mse (generic function with 1 method)"
            ]
          },
          "metadata": {
            "tags": []
          },
          "execution_count": 27
        }
      ]
    },
    {
      "cell_type": "markdown",
      "metadata": {
        "id": "vljgfJ1kvj_-"
      },
      "source": [
        "# Layers"
      ]
    },
    {
      "cell_type": "code",
      "metadata": {
        "id": "V8E7ygsZvmBz"
      },
      "source": [
        "\n",
        "\n",
        "mutable struct Conv\n",
        "    w\n",
        "    b\n",
        "    f\n",
        "    pDrop\n",
        "    padding\n",
        "    dilation\n",
        "    nParameters\n",
        "end\n",
        "\n",
        "\n",
        "\n",
        "(c::Conv)(x) =\n",
        "    c.f.(\n",
        "        conv4(\n",
        "            c.w,\n",
        "            dropout(x, c.pDrop),\n",
        "            padding=c.padding,\n",
        "            dilation=c.dilation\n",
        "        ) .+ c.b\n",
        "    )\n",
        "\n",
        "\n",
        "\n",
        "Conv(w1::Int, w2::Int, cx::Int, cy::Int;\n",
        "    f=\n",
        "        relu,\n",
        "    pDrop=\n",
        "        0,\n",
        "    padding=\n",
        "        0,\n",
        "    dilation=\n",
        "        1,\n",
        "    xType=\n",
        "        Array{Float32},\n",
        "    scale=\n",
        "        0.01\n",
        "    ) = Conv(\n",
        "            Param(xType(rand(w1,w2,cx,cy)) .* eltype(xType)(scale), Adam()),\n",
        "            Param(xType(zeros(1,1,cy,1)), Adam()),\n",
        "            f,\n",
        "            pDrop,\n",
        "            padding,\n",
        "            dilation,\n",
        "            (w1*w2*cx +1)*cy\n",
        "        )\n",
        "\n",
        "################################################################################\n",
        "struct Pool\n",
        "    wSize\n",
        "    nParameters\n",
        "end\n",
        "\n",
        "(p::Pool)(x) = pool(x; window=p.wSize)\n",
        "Pool(x) = Pool(x, 0)\n",
        "################################################################################\n",
        "mutable struct BatchNorm\n",
        "    moments\n",
        "    params\n",
        "    nParameters\n",
        "end\n",
        "\n",
        "(b::BatchNorm)(x) = batchnorm(x, b.moments, b.params)\n",
        "\n",
        "BatchNorm(C) = BatchNorm(bnmoments(), arrayType(bnparams(C)), 0)\n",
        "\n",
        "################################################################################\n",
        "\n",
        "struct Dense\n",
        "    w\n",
        "    b\n",
        "    f\n",
        "    pDrop\n",
        "    window\n",
        "    nParameters\n",
        "end\n",
        "\n",
        "Dense(i,o;\n",
        "    f=\n",
        "        identity,\n",
        "    window=\n",
        "        1,\n",
        "    xType=\n",
        "        Array{Float32},\n",
        "    scale=\n",
        "        0.01,\n",
        "    pDrop=\n",
        "        0\n",
        "    ) =\n",
        "        Dense(\n",
        "            Param(xType(rand(o,i)) .* eltype(xType)(scale), Adam()),\n",
        "            Param(xType(zeros(o)), Adam()),\n",
        "            f,\n",
        "            pDrop,\n",
        "            window,\n",
        "            (i+1)*o\n",
        "        )\n",
        "\n",
        "(d::Dense)(x) =\n",
        "    d.f.(\n",
        "        d.w *\n",
        "            mat(\n",
        "                dropout(x, d.pDrop),\n",
        "            ) .+ d.b\n",
        "        )\n",
        "\n",
        "\n",
        "################################################################################\n",
        "\n",
        "\n",
        "# Define a deconvolution layer:\n",
        "\n",
        "struct DeConv\n",
        "    w\n",
        "    b\n",
        "    padding\n",
        "    nParameters\n",
        "end\n",
        "\n",
        "\n",
        "DeConv(w1::Int, w2::Int, cx::Int, cy::Int;\n",
        "    padding=\n",
        "        0,\n",
        "    xType=\n",
        "        Array{Float32},\n",
        "    scale=\n",
        "        0.01\n",
        "    ) = DeConv(\n",
        "            Param(xType(rand(w1,w2,cx,cy)) .* eltype(xType)(scale), Adam()),\n",
        "            Param(xType(zeros(1,1,cy,1)), Adam()),\n",
        "            padding,\n",
        "            (w1*w2*cx)*cy\n",
        "        )\n",
        "\n",
        "\n",
        "\n",
        "(dC::DeConv)(x) =\n",
        "    deconv4(\n",
        "        dC.w,\n",
        "        x,\n",
        "        padding=dC.padding\n",
        "    ) .+ b\n",
        "################################################################################\n"
      ],
      "execution_count": null,
      "outputs": []
    },
    {
      "cell_type": "markdown",
      "metadata": {
        "id": "fvezH-bdvodN"
      },
      "source": [
        "# Architecture"
      ]
    },
    {
      "cell_type": "code",
      "metadata": {
        "id": "GWW-0NQrvu91"
      },
      "source": [
        "\n",
        "# Define a body (up to bottleneck)\n",
        "mutable struct Body\n",
        "    layers\n",
        "    Body(layers...) = new(layers)\n",
        "end\n",
        "\n",
        "\n",
        "function addLayer!(b::Body, l)\n",
        "    b.layers = (\n",
        "        b.layers...,\n",
        "        l\n",
        "    )\n",
        "end\n",
        "\n",
        "\n",
        "(b::Body)(x) = (for l in b.layers;x = l(x);end;x)\n",
        "\n",
        "\n",
        "##################################\n",
        "\n",
        "# Define Head structure\n",
        "\n",
        "mutable struct Head\n",
        "    layers\n",
        "    lossF\n",
        "    Head(layers...; lossF=identity) = new(layers, lossF)\n",
        "end\n",
        "\n",
        "(h::Head)(x) = (for l in h.layers;x = l(x);end;x)\n",
        "\n",
        "\n",
        "\n",
        "###########################\n",
        "\n",
        "\n",
        "mutable struct Chain\n",
        "    body\n",
        "    heads\n",
        "    n\n",
        "    bottleneck\n",
        "    Chain(body, heads...; n=0, bottleneck=nothing) = new(body, heads..., n, bottleneck)\n",
        "end\n",
        "\n",
        "Chain(b::Body) = Chain(b, []; n=0)\n",
        "(c::Chain)(h::Head...) = addHead!(c, h...)\n",
        "\n",
        "function addHead!(c::Chain, h...)\n",
        "    c.heads = vcat(c.heads..., h...)\n",
        "    c.n = length(c.heads)\n",
        "end\n",
        "\n",
        "##########################################\n",
        "\n",
        "\n",
        "function meanLoss(c::Chain, d::Data)\n",
        "    J = [Float32(0) for n in 1:c.n]\n",
        "    for (j, (x, y)) in enumerate(d)\n",
        "        for (hIdx, (h, yi)) in enumerate(zip(c.heads, y))\n",
        "            J[hIdx] += h.lossF(h(c.body(x)), yi)\n",
        "        end\n",
        "    end\n",
        "    J ./ length(d)\n",
        "end\n",
        "\n",
        "\n",
        "every(n,itr) = (x for (i,x) in enumerate(itr) if i%n == 0)\n"
      ],
      "execution_count": null,
      "outputs": []
    },
    {
      "cell_type": "code",
      "metadata": {
        "id": "uxe3J-5YvxbC"
      },
      "source": [
        "\n",
        "function train!(c::Chain, dTrn::Data, dTst::Data; iters=500, period=10)\n",
        "    results = []\n",
        "    for i=1:period:iters\n",
        "        push!(\n",
        "            results, (\n",
        "                c(dTrn),\n",
        "                c(dTst),\n",
        "                1-accuracy(c; data=dTrn),\n",
        "                1-accuracy(c; data=dTst)\n",
        "            )\n",
        "        )\n",
        "        for (x, y) in every(period, dTrn)\n",
        "            J = @diff c(x, y)\n",
        "            for p in params(J)\n",
        "                ∇p = grad(J, p)\n",
        "                update!(p, ∇p)\n",
        "            end\n",
        "        end\n",
        "    end\n",
        "    push!(\n",
        "        results, (\n",
        "            c(dTrn),\n",
        "            c(dTst),\n",
        "            1-accuracy(c; data=dTrn),\n",
        "            1-accuracy(c; data=dTst)\n",
        "        )\n",
        "    )\n",
        "    results = reshape(collect(Float32,flatten(results)),(4,:))\n",
        "    return 0:period:iters, results\n",
        "end\n"
      ],
      "execution_count": null,
      "outputs": []
    },
    {
      "cell_type": "markdown",
      "metadata": {
        "id": "hsg77w_7wAZn"
      },
      "source": [
        "# Model"
      ]
    },
    {
      "cell_type": "code",
      "metadata": {
        "id": "0Wjmk3ruwCNH"
      },
      "source": [
        "\n",
        "dTrn = minibatch(x, y; batchsize=Int32(100));\n",
        "\n",
        "dTst = minibatch(x, y; batchsize=Int32(100));\n",
        "\n",
        "\n",
        "\n",
        "seqLen = size(x, 1)\n",
        "\n",
        "tasks = [\n",
        "  \"22RV1.AR-C19\", \"22RV1.AR-V7\", \"LNCaP.dht.AR\", \"LNCaP.veh.AR\", \"22RV1.HOXB13\", \n",
        "  \"LN95.AR-C19\", \"LN95.AR-V7\", \"LN95.HOXB13\", \"malignant.1.AR\", \"malignant.2.AR\",\n",
        "  \"malignant.3.AR\", \"malignant.4.AR\", \"non-malignant.1.AR\", \"non-malignant.2.AR\"\n",
        "]\n",
        "\n",
        "\n",
        "bpnetBody = Body(\n",
        "    Conv(25,4,1,64, padding=(12, 0)) # Int(max((cx - 1) * s1 + w1 - cx, 0)/2)\n",
        ")\n",
        "\n",
        "\n",
        "\n",
        "nLayer = 2\n",
        "\n",
        "for i=1:nLayer\n",
        "    rate = 2^i\n",
        "    addLayer!(bpnetBody,\n",
        "        Conv(3,1,64,64, padding=(rate, 0), dilation=(rate, 0))\n",
        "    )\n",
        "end\n",
        "\n",
        "\n",
        "bpnet = Chain(bpnetBody)\n",
        "\n",
        "\n",
        "for task in tasks\n",
        "    profileHead = Head(\n",
        "        DeConv(25,1,2,64, padding=(12,0));\n",
        "        lossF=\n",
        "            multinomial_nll\n",
        "    )\n",
        "    println(\"profileHead\")\n",
        "    countHead = Head(\n",
        "        Dense(64,2, window=(seqLen,1));\n",
        "        lossF=\n",
        "            mse\n",
        "    )\n",
        "    println(\"countHead\")\n",
        "    bpnet(profileHead, countHead)\n",
        "end\n",
        "\n",
        "\n"
      ],
      "execution_count": null,
      "outputs": []
    },
    {
      "cell_type": "code",
      "metadata": {
        "id": "kZ4QU2Vkw8GV"
      },
      "source": [
        "\n",
        "[l.nParameters for l in collect(bpnet.body.layers)]\n",
        "[l.nParameters for h in collect(bpnet.heads) for l in h.layers]\n"
      ],
      "execution_count": null,
      "outputs": []
    },
    {
      "cell_type": "code",
      "metadata": {
        "id": "pwDle9td81Eo"
      },
      "source": [
        "training = train!(bpnet, dTrn, dTst)\n"
      ],
      "execution_count": null,
      "outputs": []
    }
  ]
}